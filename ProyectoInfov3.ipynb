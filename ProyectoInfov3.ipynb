{
 "cells": [
  {
   "cell_type": "code",
   "execution_count": 23,
   "metadata": {},
   "outputs": [],
   "source": [
    "try:\n",
    "    from PIL import Image\n",
    "except ImportError:\n",
    "    import Image\n",
    "import pytesseract\n",
    "\n"
   ]
  },
  {
   "cell_type": "code",
   "execution_count": 24,
   "metadata": {},
   "outputs": [],
   "source": [
    "# If you don't have tesseract executable in your PATH, include the following: \n",
    "pytesseract.pytesseract.tesseract_cmd = r'C:\\Program Files\\Tesseract-OCR\\tesseract'"
   ]
  },
  {
   "cell_type": "code",
   "execution_count": 25,
   "metadata": {},
   "outputs": [],
   "source": [
    "import re\n",
    "\n",
    "def normalizarTexto(text):\n",
    "    text = text.replace('\\\\', '')\n",
    "    text = text.replace('`', '')\n",
    "    text = text.replace('*', '')\n",
    "    text = text.replace('_', '')\n",
    "    text = text.replace('{', '')\n",
    "    text = text.replace('}', '')\n",
    "    text = text.replace('[', '')\n",
    "    text = text.replace(']', '')\n",
    "    text = text.replace('(', '')\n",
    "    text = text.replace(')', '')\n",
    "    text = text.replace('>', '')\n",
    "    text = text.replace('#', '')\n",
    "    text = text.replace('+', '')\n",
    "    text = text.replace('-', '')\n",
    "    text = text.replace('.', '')\n",
    "    text = text.replace('!', '')\n",
    "    text = text.replace('$', '')\n",
    "    text = text.replace(',', '')\n",
    "    text = text.replace('%', '')\n",
    "    text = text.replace(':', '')\n",
    "    text = text.replace('Á', 'A')\n",
    "    text = text.replace('É', 'E')\n",
    "    text = text.replace('Í', 'I')\n",
    "    text = text.replace('Ó', 'O')\n",
    "    text = text.replace('Ú', 'U')\n",
    "    return text\n"
   ]
  },
  {
   "cell_type": "code",
   "execution_count": 41,
   "metadata": {},
   "outputs": [],
   "source": [
    "resuelveEncontradoFinal=\"\"\n",
    "# Batch processing with a single file containing the list of multiple image file paths\n",
    "stexto=pytesseract.image_to_string('D:\\DocumentosInfojudicial\\Talento 4.0\\Proyecto\\Imagen\\imagenes.txt',lang='spa')\n",
    "stexto= normalizarTexto(stexto.upper())\n"
   ]
  },
  {
   "cell_type": "code",
   "execution_count": 42,
   "metadata": {},
   "outputs": [],
   "source": [
    "import difflib\n",
    "\n",
    "arch = open('D:\\\\DocumentosInfojudicial\\\\Talento 4.0\\\\Proyecto\\\\Imagen\\\\resuelve2.txt', 'r')\n",
    "lista2=[]\n",
    "for linea in arch:\n",
    "    lista2.append(linea.replace('\\n',''))\n",
    "arch.close()\n",
    "\n",
    "#print(lista2)\n",
    "\n",
    "lista1 = stexto.replace('  ','').split('\\n')\n",
    "#print( len(lista1))\n",
    "str_list = filter(None, lista1)\n",
    "str_list = filter(bool, str_list)\n",
    "str_list = filter(len, str_list)\n",
    "str_list = filter(lambda item: item, str_list)\n",
    "lista1=list(filter(None, str_list))\n",
    "#print( len(lista1))\n",
    "#print(lista1)"
   ]
  },
  {
   "cell_type": "code",
   "execution_count": 43,
   "metadata": {},
   "outputs": [],
   "source": [
    "import pandas as pd\n",
    "lst = (['Resuelve','Texto', 'Ratio'])\n",
    "\n",
    "df_marks = pd.DataFrame()\n",
    "d = difflib.Differ()\n",
    "lista3 = {\"Resuelve\":[],\"Ratio\":[]};\n",
    "for search in lista1:\n",
    "    for search1 in lista2:\n",
    "        if(search!=' '):\n",
    "            ratio=difflib.SequenceMatcher(None, search1, search).ratio()\n",
    "            if(ratio>0):\n",
    "                new_row = {'Resuelve':search1, 'Texto':search, 'Ratio':ratio}\n",
    "                #append row to the dataframe\n",
    "                df_marks = df_marks.append(new_row, ignore_index=True)\n",
    "         \n",
    "#print(df_marks)"
   ]
  },
  {
   "cell_type": "code",
   "execution_count": 44,
   "metadata": {},
   "outputs": [
    {
     "name": "stdout",
     "output_type": "stream",
     "text": [
      "417\n",
      "Ratio                                                0.609756\n",
      "Resuelve                            LIBRA MANDAMIENTO DE PAGO\n",
      "Texto       LIBRAR MANDAMIENTO DE PAGO A FAVOR DE LA SOCIE...\n",
      "Name: 417, dtype: object\n"
     ]
    }
   ],
   "source": [
    "column = df_marks[\"Ratio\"]\n",
    "max_value = column.idxmax()\n",
    "print(max_value)\n",
    "print(df_marks.loc[max_value])\n",
    "#print(stexto)"
   ]
  },
  {
   "cell_type": "code",
   "execution_count": null,
   "metadata": {},
   "outputs": [],
   "source": []
  }
 ],
 "metadata": {
  "kernelspec": {
   "display_name": "Python 3",
   "language": "python",
   "name": "python3"
  },
  "language_info": {
   "codemirror_mode": {
    "name": "ipython",
    "version": 3
   },
   "file_extension": ".py",
   "mimetype": "text/x-python",
   "name": "python",
   "nbconvert_exporter": "python",
   "pygments_lexer": "ipython3",
   "version": "3.8.5"
  }
 },
 "nbformat": 4,
 "nbformat_minor": 4
}
